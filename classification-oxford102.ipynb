{
 "cells": [
  {
   "cell_type": "markdown",
   "metadata": {},
   "source": [
    "Classifying ImageNet: the instant Caffe way\n",
    "===========================================\n",
    "\n",
    "Caffe has a Python interface, pycaffe, with a `caffe.Net` interface for models. There are both Python and MATLAB interfaces. While this example uses the off-the-shelf Python `caffe.Classifier` interface there is also a MATLAB example at `matlab/caffe/matcaffe_demo.m`.\n",
    "\n",
    "Before we begin, you must compile Caffe. You should add the Caffe module to your `PYTHONPATH` although this example includes it automatically. If you haven't yet done so, please refer to the [installation instructions](http://caffe.berkeleyvision.org/installation.html). This example uses our pre-trained CaffeNet model, an ILSVRC12 image classifier. You can download it by running `./scripts/download_model_binary.py models/bvlc_reference_caffenet` or let the first step of this example download it for you.\n",
    "\n",
    "Ready? Let's start."
   ]
  },
  {
   "cell_type": "code",
   "execution_count": 1,
   "metadata": {
    "collapsed": false
   },
   "outputs": [],
   "source": [
    "import numpy as np\n",
    "import matplotlib.pyplot as plt\n",
    "%matplotlib inline\n",
    "\n",
    "\n",
    "# Make sure that caffe is on the python path:\n",
    "CAFFE_ROOT = '/home/waylonflinn/Development/caffe/'\n",
    "import sys\n",
    "sys.path.insert(0, CAFFE_ROOT + 'python')\n",
    "\n",
    "import caffe\n",
    "\n",
    "from caffe.io import load_image\n",
    "\n",
    "# Set the right path to your model definition file, pretrained model weights,\n",
    "# and the image you would like to classify.\n",
    "REF_MODEL_FILE = CAFFE_ROOT + 'models/bvlc_reference_caffenet/deploy.prototxt'\n",
    "REF_PRETRAINED = CAFFE_ROOT + 'models/bvlc_reference_caffenet/bvlc_reference_caffenet.caffemodel'\n",
    "\n",
    "MODEL_FILE = './deploy.prototxt'\n",
    "PRETRAINED = './oxford102_iter_50000.caffemodel'\n",
    "\n",
    "RAW_DATA_DIR = './data/'\n",
    "IMAGE_DATA_DIR = RAW_DATA_DIR + 'oxford102/jpg/'\n",
    "SEGMENT_DATA_DIR = RAW_DATA_DIR + 'oxford102/segmim/'\n",
    "FLOWER_FILE = RAW_DATA_DIR + 'imagelabels.mat'\n",
    "# training, test and validation set indeces\n",
    "SET_FILE = RAW_DATA_DIR + 'setid.mat'\n",
    "IMAGE_FILE = IMAGE_DATA_DIR + 'image_00001.jpg'\n",
    "\n",
    "IMAGE_FORMAT = 'image_{0:05d}.jpg'\n",
    "SEGMENT_FORMAT = 'segmim_{0:05d}.jpg'"
   ]
  },
  {
   "cell_type": "markdown",
   "metadata": {},
   "source": [
    "### Run this to get bigger plots"
   ]
  },
  {
   "cell_type": "code",
   "execution_count": 2,
   "metadata": {
    "collapsed": false
   },
   "outputs": [],
   "source": [
    "import matplotlib\n",
    "matplotlib.rcParams['savefig.dpi'] = 2 * matplotlib.rcParams['savefig.dpi']\n",
    "matplotlib.rcParams['savefig.dpi']"
   ]
  },
  {
   "cell_type": "markdown",
   "metadata": {},
   "source": [
    "### Import Labels and Set Definitions"
   ]
  },
  {
   "cell_type": "code",
   "execution_count": 3,
   "metadata": {
    "collapsed": true
   },
   "outputs": [],
   "source": [
    "from scipy.io import loadmat\n",
    "flower_mat = loadmat(FLOWER_FILE)\n",
    "labels = flower_mat['labels'][0]\n",
    "\n",
    "set_mat = loadmat(SET_FILE)\n",
    "train_ids = set_mat['trnid'][0]\n",
    "test_ids = set_mat['tstid'][0]\n",
    "valid_ids = set_mat['valid'][0]"
   ]
  },
  {
   "cell_type": "code",
   "execution_count": 4,
   "metadata": {
    "collapsed": false
   },
   "outputs": [],
   "source": [
    "labels"
   ]
  },
  {
   "cell_type": "code",
   "execution_count": 5,
   "metadata": {
    "collapsed": false
   },
   "outputs": [],
   "source": [
    "train_ids"
   ]
  },
  {
   "cell_type": "markdown",
   "metadata": {},
   "source": [
    "Map the label to the name"
   ]
  },
  {
   "cell_type": "code",
   "execution_count": 6,
   "metadata": {
    "collapsed": true
   },
   "outputs": [],
   "source": [
    "name_map = { \n",
    "            1 : 'Pink Primrose',\n",
    "            2 : 'Hard-Leaved Pocket Orchid',\n",
    "            3 : 'Canterbury Bells',\n",
    "            4 : 'Sweet Pea',\n",
    "            5 : 'English Marigold',\n",
    "            6 : 'Tiger Lily',\n",
    "            7 : 'Moon Orchid',\n",
    "            8 : 'Bird of Paradise',\n",
    "            9 : 'Monkshood',\n",
    "            10: 'Globe Thistle',\n",
    "            11: 'Snapdragon',\n",
    "            12: 'Colts Foot',\n",
    "            13: 'King Protea'}"
   ]
  },
  {
   "cell_type": "markdown",
   "metadata": {},
   "source": [
    "Loading a network is easy. `caffe.Classifier` takes care of everything. Note the arguments for configuring input preprocessing: mean subtraction switched on by giving a mean array, input channel swapping takes care of mapping RGB into the reference ImageNet model's BGR order, and raw scaling multiplies the feature scale from the input [0,1] to the ImageNet model's [0,255].\n",
    "\n",
    "We will set the phase to test since we are doing testing, and will first use CPU for the computation."
   ]
  },
  {
   "cell_type": "code",
   "execution_count": 7,
   "metadata": {
    "collapsed": false
   },
   "outputs": [],
   "source": [
    "imagenet_mean = np.load(CAFFE_ROOT + 'python/caffe/imagenet/ilsvrc_2012_mean.npy').mean(1).mean(1)"
   ]
  },
  {
   "cell_type": "code",
   "execution_count": 8,
   "metadata": {
    "collapsed": true
   },
   "outputs": [],
   "source": [
    "caffe.set_mode_cpu()"
   ]
  },
  {
   "cell_type": "code",
   "execution_count": 9,
   "metadata": {
    "collapsed": false
   },
   "outputs": [],
   "source": [
    "net = caffe.Classifier(MODEL_FILE, PRETRAINED,\n",
    "                       mean=imagenet_mean,\n",
    "                       channel_swap=(2,1,0),\n",
    "                       raw_scale=255,\n",
    "                       image_dims=(256, 256))"
   ]
  },
  {
   "cell_type": "markdown",
   "metadata": {},
   "source": [
    "Let's take a look at our example image with Caffe's image loading helper."
   ]
  },
  {
   "cell_type": "markdown",
   "metadata": {},
   "source": [
    "### Search for Images with a Certain Label"
   ]
  },
  {
   "cell_type": "markdown",
   "metadata": {},
   "source": [
    "Let's find all the images with the label `7`. This should be the Moon Orchid."
   ]
  },
  {
   "cell_type": "code",
   "execution_count": 10,
   "metadata": {
    "collapsed": true
   },
   "outputs": [],
   "source": [
    "search_label = 7\n",
    "search_label_indeces = np.nonzero(labels == search_label)[0]"
   ]
  },
  {
   "cell_type": "markdown",
   "metadata": {},
   "source": [
    "Should find `40` images"
   ]
  },
  {
   "cell_type": "code",
   "execution_count": 11,
   "metadata": {
    "collapsed": false
   },
   "outputs": [],
   "source": [
    "len(search_label_indeces)"
   ]
  },
  {
   "cell_type": "markdown",
   "metadata": {},
   "source": [
    "### Construct Filename and Load Image"
   ]
  },
  {
   "cell_type": "markdown",
   "metadata": {},
   "source": [
    "Now we'll load the first image that matches the label."
   ]
  },
  {
   "cell_type": "code",
   "execution_count": 12,
   "metadata": {
    "collapsed": true
   },
   "outputs": [],
   "source": [
    "search_file_index = search_label_indeces[0]"
   ]
  },
  {
   "cell_type": "code",
   "execution_count": 13,
   "metadata": {
    "collapsed": false
   },
   "outputs": [],
   "source": [
    "# add one to index because image file numbers start at 1\n",
    "file_name = IMAGE_FORMAT.format(search_file_index + 1)\n",
    "test_image = IMAGE_DATA_DIR + file_name\n",
    "test_image"
   ]
  },
  {
   "cell_type": "code",
   "execution_count": 14,
   "metadata": {
    "collapsed": false
   },
   "outputs": [],
   "source": [
    "input_image = load_image(test_image)\n",
    "plt.imshow(input_image)"
   ]
  },
  {
   "cell_type": "markdown",
   "metadata": {},
   "source": [
    "Time to classify. The default is to actually do 10 predictions, cropping the center and corners of the image as well as their mirrored versions, and average over the predictions:"
   ]
  },
  {
   "cell_type": "code",
   "execution_count": 15,
   "metadata": {
    "collapsed": false
   },
   "outputs": [],
   "source": [
    "output = net.predict([input_image])  # predict takes any number of images, and formats them for the Caffe net automatically\n",
    "predictions = output[0]\n",
    "print('prediction shape: {0}'.format(predictions.shape))"
   ]
  },
  {
   "cell_type": "code",
   "execution_count": 16,
   "metadata": {
    "collapsed": false
   },
   "outputs": [],
   "source": [
    "classes = np.arange(0, len(predictions))\n",
    "plt.bar(classes, predictions, 1.0)\n",
    "# class numbers start at 1\n",
    "predicted_class_index = predictions.argmax()\n",
    "predicted_class = predicted_class_index + 1\n",
    "predicted_name = name_map[predicted_class] if predicted_class in name_map else '<class only> ->'\n",
    "print('predicted class: {0} ({1})'.format(predicted_name, predicted_class))\n",
    "print('prediction percent: {0:.1f}%'.format(predictions[predicted_class_index] * 100))"
   ]
  },
  {
   "cell_type": "markdown",
   "metadata": {},
   "source": [
    "This should be pretty close to a 100% match (since it's in the training set).\n",
    "\n",
    "The predicted class is 7 ('Moon Orchid'), as expected."
   ]
  },
  {
   "cell_type": "markdown",
   "metadata": {},
   "source": [
    "Now let's try something a little harder. Predicting something from the test set. \n",
    "\n",
    "We'll pick the first index from the original training set. Remember we trained on the original test set, so we'll test on the original training set. This is a little confusing, but it gave us more data to train our network on."
   ]
  },
  {
   "cell_type": "code",
   "execution_count": 17,
   "metadata": {
    "collapsed": false
   },
   "outputs": [],
   "source": [
    "test_file_index = train_ids[0]\n",
    "labels[test_file_index]"
   ]
  },
  {
   "cell_type": "markdown",
   "metadata": {},
   "source": [
    "First index has a label of `1` ('Pink Primrose'). So that's what we should see in the prediction.\n",
    "Let's take a look at the image."
   ]
  },
  {
   "cell_type": "code",
   "execution_count": 18,
   "metadata": {
    "collapsed": false
   },
   "outputs": [],
   "source": [
    "# add one to index because image file numbers start at 1\n",
    "file_name = IMAGE_FORMAT.format(test_file_index + 1)\n",
    "test_image = IMAGE_DATA_DIR + file_name\n",
    "input_image = load_image(test_image)\n",
    "plt.imshow(input_image)"
   ]
  },
  {
   "cell_type": "markdown",
   "metadata": {},
   "source": [
    "Now we'll make the new prediction for this image."
   ]
  },
  {
   "cell_type": "code",
   "execution_count": 19,
   "metadata": {
    "collapsed": false
   },
   "outputs": [],
   "source": [
    "output = net.predict([input_image], oversample=False) \n",
    "predictions = output[0]\n",
    "print('prediction shape: {0}'.format(predictions.shape))"
   ]
  },
  {
   "cell_type": "code",
   "execution_count": 20,
   "metadata": {
    "collapsed": false
   },
   "outputs": [],
   "source": [
    "classes = np.arange(0, len(predictions))\n",
    "plt.bar(classes, predictions, 1.0)\n",
    "# class numbers start at 1\n",
    "predicted_class_index = predictions.argmax()\n",
    "predicted_class = predicted_class_index + 1\n",
    "predicted_name = name_map[predicted_class] if predicted_class in name_map else '<class only> ->'\n",
    "print('predicted class: {0} ({1})'.format(predicted_name, predicted_class))\n",
    "print('prediction percent: {0:.1f}%'.format(predictions[predicted_class_index] * 100))"
   ]
  },
  {
   "cell_type": "markdown",
   "metadata": {},
   "source": [
    "Class label `1` ('Pink Primrose') as expected. You can also see some (much smaller) secondary predictions in the bar chart above (they're tiny, look near the axis)."
   ]
  }
 ],
 "metadata": {
  "description": "Use the pre-trained ImageNet model to classify images with the Python interface.",
  "example_name": "ImageNet classification",
  "include_in_docs": true,
  "kernelspec": {
   "display_name": "Python 3",
   "language": "python",
   "name": "python3"
  },
  "language_info": {
   "codemirror_mode": {
    "name": "ipython",
    "version": 3
   },
   "file_extension": ".py",
   "mimetype": "text/x-python",
   "name": "python",
   "nbconvert_exporter": "python",
   "pygments_lexer": "ipython3",
   "version": "3.4.0"
  },
  "priority": 1
 },
 "nbformat": 4,
 "nbformat_minor": 0
}
